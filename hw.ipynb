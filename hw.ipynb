{
 "cells": [
  {
   "cell_type": "code",
   "execution_count": 3,
   "id": "d466b039-acc9-48b5-88f2-91c77f85d46e",
   "metadata": {},
   "outputs": [
    {
     "name": "stdout",
     "output_type": "stream",
     "text": [
      "Intercept (β₀): 740.66\n",
      "Coefficients (β₁, β₂, β₃, β₄): [ 11.31108062  40.10949007 -15.69124359 -41.37800678]\n"
     ]
    }
   ],
   "source": [
    "## example\n",
    "import numpy as np\n",
    "from sklearn.linear_model import LinearRegression\n",
    "\n",
    "# Example features and target\n",
    "X = np.array([\n",
    "    [70, 3, 15, 5],\n",
    "    [90, 4, 10, 7],\n",
    "    [60, 2, 20, 3],\n",
    "    [120, 5, 5, 10],\n",
    "    [80, 3, 12, 6],\n",
    "    [110, 4, 8, 8],\n",
    "    [100, 4, 7, 5],\n",
    "    [75, 3, 18, 4],\n",
    "    [95, 4, 9, 6],\n",
    "    [130, 5, 3, 12]\n",
    "])\n",
    "y = np.array([1200, 1500, 1100, 1800, 1300, 1650, 1750, 1250, 1550, 1900])\n",
    "\n",
    "# Fit the model\n",
    "model = LinearRegression()\n",
    "model.fit(X, y)\n",
    "\n",
    "# Get coefficients\n",
    "print(f\"Intercept (β₀): {model.intercept_:.2f}\")\n",
    "print(f\"Coefficients (β₁, β₂, β₃, β₄): {model.coef_}\")"
   ]
  },
  {
   "cell_type": "code",
   "execution_count": 33,
   "id": "1464c2f3-14ee-4b39-b58e-b7019b157263",
   "metadata": {},
   "outputs": [
    {
     "name": "stdout",
     "output_type": "stream",
     "text": [
      "Intercept (β₀): 1.72\n",
      "Coefficients (β₁, β₂, β₃, β₄): [1.97320904 0.11806371 0.20019818 2.57642763]\n",
      "salary folmula=1.72 + 1.97 * years exp + 0.12 * weekly hours * 0.20 +2.58* years experence\n",
      "salary test=29.21\n",
      "The most influential factors on salary are: \n",
      "1.The most influential factor years of MANAGMENT experience, because the coefficients is 2.58\n",
      "2. years of experience with coefficients 1.97\n",
      "3. working hours with coefficients 0.20\n"
     ]
    }
   ],
   "source": [
    "import numpy as np\n",
    "from sklearn.linear_model import LinearRegression\n",
    "\n",
    
    "X = np.array([\n",
    "    [2, 15, 40, 0],\n",
    "    [5, 16, 45, 1],\n",
    "    [3, 16, 40, 0],\n",
    "    [10, 18, 50, 5],\n",
    "    [7, 17, 45, 3],\n",
    "    [1, 14, 35, 0],\n",
    "    [8,\t16,\t45,\t4],\n",
    "    [4,\t15,\t40,\t1],\n",
    "    [6,\t15,\t42,\t2],\n",
    "    [12,\t19,\t55,\t8]\n",
    "])\n",
    "y = np.array([15, 25, 18, 45, 35, 12, 38, 22, 30, 60])\n",
    "\n",
    "# Fit the model\n",
    "model = LinearRegression()\n",
    "model.fit(X, y)\n",
    "\n",
    "# Get coefficients\n",
    "intercept=model.intercept_\n",
    "bi=model.coef_\n",
    "exp=bi[0]\n",
    "edu=bi[1]\n",
    "work_h=bi[2]\n",
    "mng=bi[3]\n",
    "print(f\"Intercept (β₀): {intercept:.2f}\")\n",
    "print(f\"Coefficients (β₁, β₂, β₃, β₄): {bi}\")\n",
    "print(f\"salary folmula={intercept:.2f} + {exp:.2f} * years exp + {edu:.2f} * weekly hours * {work_h:.2f} +{mng:.2f}* years experence\")\n",
    "print(f\"salary test={(intercept + exp*6+ edu*16+ work_h*43+ 2*mng):.2f}\")\n",
    "\n",
    "print(\"The most influential factors on salary are: \")\n",
    "print(F\"1.The most influential factor years of MANAGMENT experience, because the coefficients is {mng:.2f}\")\n",
    "print(f\"2. years of experience with coefficients {exp:.2f}\")\n",
    "print(f\"3. working hours with coefficients {work_h:.2f}\")"
   ]
  }
 ],
 "metadata": {
  "kernelspec": {
   "display_name": "Python [conda env:base] *",
   "language": "python",
   "name": "conda-base-py"
  },
  "language_info": {
   "codemirror_mode": {
    "name": "ipython",
    "version": 3
   },
   "file_extension": ".py",
   "mimetype": "text/x-python",
   "name": "python",
   "nbconvert_exporter": "python",
   "pygments_lexer": "ipython3",
   "version": "3.12.7"
  }
 },
 "nbformat": 4,
 "nbformat_minor": 5
}
